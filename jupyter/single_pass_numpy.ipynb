{
 "cells": [
  {
   "cell_type": "code",
   "execution_count": 8,
   "id": "1a49d7f5",
   "metadata": {},
   "outputs": [
    {
     "name": "stdout",
     "output_type": "stream",
     "text": [
      "X:\n",
      "[[0. 0.]\n",
      " [0. 1.]\n",
      " [1. 0.]\n",
      " [1. 1.]]\n",
      "\n",
      "Y:\n",
      "[[0.]\n",
      " [1.]\n",
      " [1.]\n",
      " [0.]]\n",
      "\n",
      "W1:\n",
      "[[ 0.2985 -0.5792]\n",
      " [ 0.0913  0.4234]]\n",
      "\n",
      "W2:\n",
      "[[0.5266 0.2958]]\n",
      "\n",
      "B1:\n",
      "[-0.4939  0.189 ]\n",
      "\n",
      "B2:\n",
      "[0.6358]\n",
      "\n"
     ]
    }
   ],
   "source": [
    "import numpy as np\n",
    "\n",
    "# Set NumPy to display all numbers with 4 decimal places\n",
    "np.set_printoptions(precision=4, suppress=True)\n",
    "\n",
    "# Learning Rate\n",
    "lr = 0.75\n",
    "\n",
    "# Inputs and Outputs of XOR\n",
    "X = np.array([[0., 0.],\n",
    "              [0., 1.],\n",
    "              [1., 0.],\n",
    "              [1., 1.]])\n",
    "print(f'X:\\n{X}\\n')\n",
    "\n",
    "Y = np.array([[0.],\n",
    "              [1.],\n",
    "              [1.],\n",
    "              [0.]])\n",
    "print(f'Y:\\n{Y}\\n')\n",
    "\n",
    "# Weights and Biases\n",
    "W1 = np.array([\n",
    "    [0.2985, -0.5792], \n",
    "    [0.0913, 0.4234]\n",
    "])\n",
    "print(f'W1:\\n{W1}\\n')\n",
    "\n",
    "W2 = np.array([\n",
    "    [0.5266, 0.2958]\n",
    "])\n",
    "print(f'W2:\\n{W2}\\n')\n",
    "\n",
    "B1 = np.array([-0.4939, 0.189])\n",
    "print(f'B1:\\n{B1}\\n')\n",
    "\n",
    "B2 = np.array([0.6358])\n",
    "print(f'B2:\\n{B2}\\n')"
   ]
  },
  {
   "cell_type": "markdown",
   "id": "9e47c52b",
   "metadata": {},
   "source": [
    "## Forward Pass"
   ]
  },
  {
   "cell_type": "code",
   "execution_count": 9,
   "id": "e4428ba9",
   "metadata": {},
   "outputs": [
    {
     "name": "stdout",
     "output_type": "stream",
     "text": [
      "Z1 pre bias:\n",
      "[[ 0.      0.    ]\n",
      " [-0.5792  0.4234]\n",
      " [ 0.2985  0.0913]\n",
      " [-0.2807  0.5147]]\n",
      "\n",
      "Z1:\n",
      "[[-0.4939  0.189 ]\n",
      " [-1.0731  0.6124]\n",
      " [-0.1954  0.2803]\n",
      " [-0.7746  0.7037]]\n",
      "\n",
      "H1:\n",
      "[[-0.247   0.189 ]\n",
      " [-0.5366  0.6124]\n",
      " [-0.0977  0.2803]\n",
      " [-0.3873  0.7037]]\n",
      "\n",
      "Z2 pre bias:\n",
      "[[-0.0741]\n",
      " [-0.1014]\n",
      " [ 0.0315]\n",
      " [ 0.0042]]\n",
      "\n",
      "Z2:\n",
      "[[0.5617]\n",
      " [0.5344]\n",
      " [0.6673]\n",
      " [0.64  ]]\n",
      "\n",
      "H2:\n",
      "[[0.5617]\n",
      " [0.5344]\n",
      " [0.6673]\n",
      " [0.64  ]]\n",
      "\n"
     ]
    }
   ],
   "source": [
    "# Layer 1\n",
    "Z1 = X @ W1.T\n",
    "print(f'Z1 pre bias:\\n{Z1}\\n')\n",
    "Z1 = Z1 + B1\n",
    "print(f'Z1:\\n{Z1}\\n')\n",
    "H1 = np.maximum(0.5 * Z1, Z1)\n",
    "print(f'H1:\\n{H1}\\n')\n",
    "\n",
    "# Layer 2\n",
    "Z2 = H1 @ W2.T\n",
    "print(f'Z2 pre bias:\\n{Z2}\\n')\n",
    "Z2 = Z2 + B2\n",
    "print(f'Z2:\\n{Z2}\\n')\n",
    "H2 = np.maximum(0.5 * Z2, Z2)\n",
    "print(f'H2:\\n{H2}\\n')"
   ]
  },
  {
   "cell_type": "markdown",
   "id": "bc403ee1",
   "metadata": {},
   "source": [
    "## Loss Calculation"
   ]
  },
  {
   "cell_type": "code",
   "execution_count": 10,
   "id": "aa088fe4",
   "metadata": {},
   "outputs": [
    {
     "name": "stdout",
     "output_type": "stream",
     "text": [
      "0.2631\n"
     ]
    }
   ],
   "source": [
    "# MSE loss calculation (not needed for training)\n",
    "loss = np.mean((Y - H2) ** 2)\n",
    "print(f'{loss:.4f}')"
   ]
  },
  {
   "cell_type": "markdown",
   "id": "022de37f",
   "metadata": {},
   "source": [
    "## Backwards Pass"
   ]
  },
  {
   "cell_type": "code",
   "execution_count": 11,
   "id": "538de69f",
   "metadata": {},
   "outputs": [
    {
     "name": "stdout",
     "output_type": "stream",
     "text": [
      "dL/dH2:\n",
      "[[ 0.2808]\n",
      " [-0.2328]\n",
      " [-0.1664]\n",
      " [ 0.32  ]]\n",
      "\n",
      "dL/dZ2:\n",
      "[[ 0.2808]\n",
      " [-0.2328]\n",
      " [-0.1664]\n",
      " [ 0.32  ]]\n",
      "\n",
      "dL/dH1:\n",
      "[[ 0.1479  0.0831]\n",
      " [-0.1226 -0.0689]\n",
      " [-0.0876 -0.0492]\n",
      " [ 0.1685  0.0947]]\n",
      "\n",
      "dL/dZ1:\n",
      "[[ 0.0739  0.0831]\n",
      " [-0.0613 -0.0689]\n",
      " [-0.0438 -0.0492]\n",
      " [ 0.0843  0.0947]]\n",
      "\n",
      "dL/dX:\n",
      "[[ 0.0297 -0.0077]\n",
      " [-0.0246  0.0063]\n",
      " [-0.0176  0.0045]\n",
      " [ 0.0338 -0.0087]]\n",
      "\n"
     ]
    }
   ],
   "source": [
    "# Long Chain Calculation\n",
    "dL_dH2 = 2*(H2 - Y)/len(Y)   # Derivative of loss with respect to H2\n",
    "print(f'dL/dH2:\\n{dL_dH2}\\n')\n",
    "\n",
    "dL_dZ2 = np.multiply(dL_dH2, np.where(Z2 > 0, 1, 0.5))\n",
    "print(f'dL/dZ2:\\n{dL_dZ2}\\n')\n",
    "\n",
    "dL_dH1 = dL_dZ2 @ W2\n",
    "print(f'dL/dH1:\\n{dL_dH1}\\n')\n",
    "\n",
    "dL_dZ1 = np.multiply(dL_dH1, np.where(Z1 > 0, 1, 0.5))\n",
    "print(f'dL/dZ1:\\n{dL_dZ1}\\n')\n",
    "\n",
    "# This one is not needed for training\n",
    "dL_dX = dL_dZ1 @ W1\n",
    "print(f'dL/dX:\\n{dL_dX}\\n')"
   ]
  },
  {
   "cell_type": "code",
   "execution_count": 12,
   "id": "a97d9b27",
   "metadata": {},
   "outputs": [
    {
     "name": "stdout",
     "output_type": "stream",
     "text": [
      "dL/dW2:\n",
      "[[-0.0521  0.0891]]\n",
      "\n",
      "dL/dB2:\n",
      "[0.2017]\n",
      "\n",
      "dL/dW1:\n",
      "[[0.0405 0.023 ]\n",
      " [0.0454 0.0258]]\n",
      "\n",
      "dL/dB1:\n",
      "[0.0531 0.0597]\n",
      "\n"
     ]
    }
   ],
   "source": [
    "# Leaf Node Calculations\n",
    "dL_dW2 = dL_dZ2.T @ H1\n",
    "print(f'dL/dW2:\\n{dL_dW2}\\n')\n",
    "\n",
    "dL_dB2 = dL_dZ2.sum(axis=0)\n",
    "print(f'dL/dB2:\\n{dL_dB2}\\n')\n",
    "\n",
    "dL_dW1 = dL_dZ1.T @ X\n",
    "print(f'dL/dW1:\\n{dL_dW1}\\n')\n",
    "\n",
    "dL_dB1 = dL_dZ1.sum(axis=0)\n",
    "print(f'dL/dB1:\\n{dL_dB1}\\n')"
   ]
  },
  {
   "cell_type": "markdown",
   "id": "3eb2155f",
   "metadata": {},
   "source": [
    "## Update Parameters"
   ]
  },
  {
   "cell_type": "code",
   "execution_count": 13,
   "id": "0600426c",
   "metadata": {},
   "outputs": [
    {
     "name": "stdout",
     "output_type": "stream",
     "text": [
      "W1_new:\n",
      "[[ 0.2682 -0.5964]\n",
      " [ 0.0572  0.4041]]\n",
      "\n",
      "B1_new:\n",
      "[-0.5337  0.1443]\n",
      "\n",
      "W2_new:\n",
      "[[0.5657 0.229 ]]\n",
      "\n",
      "B2_new:\n",
      "[0.4846]\n",
      "\n"
     ]
    }
   ],
   "source": [
    "W1_new = W1 - lr * dL_dW1\n",
    "print(f'W1_new:\\n{W1_new}\\n')\n",
    "\n",
    "B1_new = B1 - lr * dL_dB1\n",
    "print(f'B1_new:\\n{B1_new}\\n')\n",
    "\n",
    "W2_new = W2 - lr * dL_dW2\n",
    "print(f'W2_new:\\n{W2_new}\\n')\n",
    "\n",
    "B2_new = B2 - lr * dL_dB2\n",
    "print(f'B2_new:\\n{B2_new}\\n')"
   ]
  },
  {
   "cell_type": "code",
   "execution_count": 14,
   "id": "7c828ec3",
   "metadata": {},
   "outputs": [
    {
     "name": "stdout",
     "output_type": "stream",
     "text": [
      "dL/dW2:\n",
      "[[ 0.0556 -0.0895]]\n",
      "\n",
      "W2_new:\n",
      "[[0.4849 0.3629]]\n",
      "\n",
      "dL/dW2:\n",
      "[[-0.1077  0.1786]]\n",
      "\n",
      "W2_new:\n",
      "[[0.5657 0.229 ]]\n",
      "\n",
      "dL/dW1:\n",
      "[[ 0.     -0.0613]\n",
      " [ 0.     -0.0689]]\n",
      "\n",
      "W1_new:\n",
      "[[ 0.2985 -0.5332]\n",
      " [ 0.0913  0.475 ]]\n",
      "\n",
      "dL/dW1:\n",
      "[[0.0405 0.0843]\n",
      " [0.0454 0.0947]]\n",
      "\n",
      "W1_new:\n",
      "[[ 0.2682 -0.5964]\n",
      " [ 0.0572  0.4041]]\n",
      "\n"
     ]
    }
   ],
   "source": [
    "# Leaf Node Calculations (Tiling)\n",
    "dL_dW2 = dL_dZ2[:2].T @ H1[:2]\n",
    "print(f'dL/dW2:\\n{dL_dW2}\\n')\n",
    "\n",
    "# Update W2\n",
    "W2_new_tiled = W2 - lr * dL_dW2\n",
    "print(f'W2_new:\\n{W2_new_tiled}\\n')\n",
    "\n",
    "# Leaf Node Calculations (Tiling)\n",
    "dL_dW2 = dL_dZ2[2:4].T @ H1[2:4]\n",
    "print(f'dL/dW2:\\n{dL_dW2}\\n')\n",
    "\n",
    "# Update W2\n",
    "W2_new_tiled = W2_new_tiled - lr * dL_dW2\n",
    "print(f'W2_new:\\n{W2_new_tiled}\\n')\n",
    "\n",
    "\n",
    "dL_dW1 = dL_dZ1[:2].T @ X[:2]\n",
    "print(f'dL/dW1:\\n{dL_dW1}\\n')\n",
    "\n",
    "# Update W1\n",
    "W1_new_tiled = W1 - lr * dL_dW1\n",
    "print(f'W1_new:\\n{W1_new_tiled}\\n')\n",
    "\n",
    "# Leaf Node Calculations (Tiling)\n",
    "dL_dW1 = dL_dZ1[2:4].T @ X[2:4]\n",
    "print(f'dL/dW1:\\n{dL_dW1}\\n')\n",
    "\n",
    "# Update W1\n",
    "W1_new_tiled = W1_new_tiled - lr * dL_dW1\n",
    "print(f'W1_new:\\n{W1_new_tiled}\\n')"
   ]
  }
 ],
 "metadata": {
  "kernelspec": {
   "display_name": "xor-env",
   "language": "python",
   "name": "python3"
  },
  "language_info": {
   "codemirror_mode": {
    "name": "ipython",
    "version": 3
   },
   "file_extension": ".py",
   "mimetype": "text/x-python",
   "name": "python",
   "nbconvert_exporter": "python",
   "pygments_lexer": "ipython3",
   "version": "3.12.9"
  }
 },
 "nbformat": 4,
 "nbformat_minor": 5
}
